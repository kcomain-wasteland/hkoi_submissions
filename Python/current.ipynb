{
 "cells": [
  {
   "cell_type": "markdown",
   "metadata": {},
   "source": [
    "# Unfinished Codes"
   ]
  },
  {
   "cell_type": "markdown",
   "metadata": {},
   "source": [
    "### D104.py"
   ]
  },
  {
   "cell_type": "code",
   "execution_count": null,
   "metadata": {},
   "outputs": [],
   "source": [
    "'''\n",
    "The root(s) of a quadratic equation with one variable ax^2+bx+c = 0 are (−b±√b2−4ac)/(2a)\n",
    "'''\n",
    "a = input()\n",
    "# Possibility: 2000 199 111 10 11 12 13\n",
    "len(a)"
   ]
  },
  {
   "cell_type": "markdown",
   "metadata": {},
   "source": [
    "### D201.py"
   ]
  },
  {
   "cell_type": "code",
   "execution_count": null,
   "metadata": {},
   "outputs": [],
   "source": [
    "[empty]"
   ]
  },
  {
   "cell_type": "markdown",
   "metadata": {},
   "source": [
    "### D204.py"
   ]
  },
  {
   "cell_type": "code",
   "execution_count": null,
   "metadata": {},
   "outputs": [],
   "source": [
    "'''Text graphics(D204)\n",
    "Write a program to output a diamond shape.\n",
    "'''"
   ]
  },
  {
   "cell_type": "markdown",
   "metadata": {},
   "source": [
    "### D304.py"
   ]
  },
  {
   "cell_type": "code",
   "execution_count": 4,
   "metadata": {},
   "outputs": [
    {
     "name": "stdin",
     "output_type": "stream",
     "text": [
      " a\n",
      " a\n"
     ]
    },
    {
     "name": "stdout",
     "output_type": "stream",
     "text": [
      "a\n"
     ]
    },
    {
     "name": "stdin",
     "output_type": "stream",
     "text": [
      " a\n"
     ]
    },
    {
     "name": "stdout",
     "output_type": "stream",
     "text": [
      "a\n"
     ]
    }
   ],
   "source": [
    "'''Hangman(D304)\n",
    "Hangman is a word guessing game. The game is played using a hidden English word H. \n",
    "Initially all its letters are hidden, but the player will know its length \n",
    "(the number of letters in the word). \n",
    "Next, the player will guess letters one by one. \n",
    "If H contains the letter guessed, the letter and the position(s) will be revealed.\n",
    "For example, if H = abacus and the player guesses a, a_a___ will be shown to the player. \n",
    "The player will make guesses repeatedly until the all letters in H are revealed.\n",
    "\n",
    "L\n",
    "'''\n",
    "import re\n",
    "word = input()\n",
    "solvdict={'a':0,'b':0,'c':0,'d':0,'e':0,'f':0,'g':0,'h':0,'i':0,'j':0,'k':0,'l':0,'m':0,'n':0,'o':0,'p':0,'q':0,'r':0,'s':0,'t':0,'u':0,'v':0,'w':0,'x':0,'y':0,'z':0}\n",
    "current = \"\"\n",
    "unsolved = []\n",
    "solved = []\n",
    "status = False\n",
    "\n",
    "for i in [c for c in word]:\n",
    "\tif solvdict[i] == 0:\n",
    "\t\tsolvdict[i] = 1\n",
    "\n",
    "for i in solvdict:\n",
    "\tif solvdict[i] == 1:\n",
    "\t\tunsolved.append(i)\n",
    "\n",
    "## Testing zone\n",
    "#del unsolved[0]\n",
    "##\n",
    "temp = input()\n",
    "for i in unsolved:\n",
    "\tif i == temp:\n",
    "\t\tunsolved.remove(temp)\n",
    "while status == False:\n",
    "\tcurrent = word\n",
    "\tfor i in unsolved:\n",
    "\t\tcurrent = re.sub(i,'_',current)\n",
    "\tprint(current)\n",
    "\ttemp = input()\n",
    "\tfor i in unsolved:\n",
    "\t\tif i == temp:\n",
    "\t\t\tunsolved.remove(temp)\n",
    "\tif len(unsolved) == 0:\n",
    "\t\tstatus = True\n",
    "print(word)"
   ]
  },
  {
   "cell_type": "markdown",
   "metadata": {},
   "source": [
    "#### D303"
   ]
  },
  {
   "cell_type": "code",
   "execution_count": null,
   "metadata": {},
   "outputs": [],
   "source": []
  },
  {
   "cell_type": "code",
   "execution_count": 6,
   "metadata": {},
   "outputs": [
    {
     "name": "stdin",
     "output_type": "stream",
     "text": [
      " a\n"
     ]
    },
    {
     "name": "stdout",
     "output_type": "stream",
     "text": [
      "a\n",
      "Yes\n"
     ]
    }
   ],
   "source": [
    "'''String reverse and palindrome(D303)\n",
    "A palindrome is a string that is same as itself reversed. abcdcba and xyzzyx are examples of palindromes.\n",
    "Write a program to reverse a string and subsequently check if the string is a palindrome.\n",
    "'''\n",
    "a = input()\n",
    "print(a[::-1])\n",
    "if a == a[::-1]:\n",
    "    print('Yes')\n",
    "else:\n",
    "    print('No')"
   ]
  },
  {
   "cell_type": "markdown",
   "metadata": {},
   "source": [
    "[Home](index.ipynb)"
   ]
  }
 ],
 "metadata": {
  "kernelspec": {
   "display_name": "Python 3",
   "language": "python",
   "name": "python3"
  },
  "language_info": {
   "codemirror_mode": {
    "name": "ipython",
    "version": 3
   },
   "file_extension": ".py",
   "mimetype": "text/x-python",
   "name": "python",
   "nbconvert_exporter": "python",
   "pygments_lexer": "ipython3",
   "version": "3.6.0"
  }
 },
 "nbformat": 4,
 "nbformat_minor": 4
}
