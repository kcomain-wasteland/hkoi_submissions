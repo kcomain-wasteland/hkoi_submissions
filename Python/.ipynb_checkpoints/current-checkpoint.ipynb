{
 "cells": [
  {
   "cell_type": "markdown",
   "metadata": {},
   "source": [
    "# Unfinished Codes"
   ]
  },
  {
   "cell_type": "markdown",
   "metadata": {},
   "source": [
    "### D104.py"
   ]
  },
  {
   "cell_type": "code",
   "execution_count": 3,
   "metadata": {},
   "outputs": [
    {
     "name": "stdin",
     "output_type": "stream",
     "text": [
      " a\n"
     ]
    },
    {
     "data": {
      "text/plain": [
       "1"
      ]
     },
     "execution_count": 3,
     "metadata": {},
     "output_type": "execute_result"
    }
   ],
   "source": [
    "'''\n",
    "The root(s) of a quadratic equation with one variable ax^2+bx+c = 0 are (−b±√b2−4ac)/(2a)\n",
    "'''\n",
    "a = input()\n",
    "# Possibility: 2000 199 111 10 11 12 13\n",
    "len(a)"
   ]
  },
  {
   "cell_type": "markdown",
   "metadata": {},
   "source": [
    "### D201.py"
   ]
  },
  {
   "cell_type": "code",
   "execution_count": null,
   "metadata": {},
   "outputs": [],
   "source": [
    "[empty]"
   ]
  },
  {
   "cell_type": "markdown",
   "metadata": {},
   "source": [
    "### D204.py"
   ]
  },
  {
   "cell_type": "code",
   "execution_count": 4,
   "metadata": {},
   "outputs": [
    {
     "data": {
      "text/plain": [
       "'Text graphics(D204)\\nWrite a program to output a diamond shape.\\n'"
      ]
     },
     "execution_count": 4,
     "metadata": {},
     "output_type": "execute_result"
    }
   ],
   "source": [
    "'''Text graphics(D204)\n",
    "Write a program to output a diamond shape.\n",
    "'''"
   ]
  },
  {
   "cell_type": "markdown",
   "metadata": {},
   "source": [
    "### D304.py"
   ]
  },
  {
   "cell_type": "code",
   "execution_count": 5,
   "metadata": {},
   "outputs": [
    {
     "name": "stdin",
     "output_type": "stream",
     "text": [
      " a\n"
     ]
    },
    {
     "name": "stdout",
     "output_type": "stream",
     "text": [
      "[]\n"
     ]
    }
   ],
   "source": [
    "'''Hangman(D304)\n",
    "Hangman is a word guessing game. The game is played using a hidden English word H. \n",
    "Initially all its letters are hidden, but the player will know its length \n",
    "(the number of letters in the word). \n",
    "Next, the player will guess letters one by one. \n",
    "If H contains the letter guessed, the letter and the position(s) will be revealed.\n",
    "For example, if H = abacus and the player guesses a, a_a___ will be shown to the player. \n",
    "The player will make guesses repeatedly until the all letters in H are revealed.\n",
    "'''\n",
    "import re\n",
    "\n",
    "h = input()\n",
    "\n",
    "usolt = []\n",
    "solved = []\n",
    "count = 0\n",
    "for i in h:\n",
    "    for b in usolt:\n",
    "        if b != i:\n",
    "            usolt.append(i)\n",
    "            print(i)\n",
    "        else:\n",
    "            break\n",
    "print(usolt)"
   ]
  },
  {
   "cell_type": "markdown",
   "metadata": {},
   "source": [
    "[Home](index.ipynb)"
   ]
  }
 ],
 "metadata": {
  "kernelspec": {
   "display_name": "Python 3",
   "language": "python",
   "name": "python3"
  },
  "language_info": {
   "codemirror_mode": {
    "name": "ipython",
    "version": 3
   },
   "file_extension": ".py",
   "mimetype": "text/x-python",
   "name": "python",
   "nbconvert_exporter": "python",
   "pygments_lexer": "ipython3",
   "version": "3.6.0"
  }
 },
 "nbformat": 4,
 "nbformat_minor": 4
}
