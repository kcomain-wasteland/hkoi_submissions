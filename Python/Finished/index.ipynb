{
 "cells": [
  {
   "cell_type": "markdown",
   "metadata": {},
   "source": [
    "# Finished codes\n",
    "###### _phew_"
   ]
  },
  {
   "cell_type": "markdown",
   "metadata": {},
   "source": [
    "#### 01005"
   ]
  },
  {
   "cell_type": "code",
   "execution_count": null,
   "metadata": {},
   "outputs": [],
   "source": [
    "'''Napster Cheating(01005)\n",
    "Recently, the Napster company has been forced to block all copyrighted MP3 files from being downloaded.\n",
    "This can protect the copyright of the songs, but all Napster users are not happy about this.\n",
    "Therefore, one of the users has made a program to rename MP3 files,\n",
    "so that Napster cannot identify the songs that should be blocked and therefore they can be downloaded freely.\n",
    "The program reverses the order of the characters in a filename in order to cheat Napster.\n",
    "For example, aXbYc.mp3 is changed to cYbXa.mp3. However, it is not convenient for Napster\n",
    "users to read those meaningless words. To view the original filenames of the songs,\n",
    "you are going to write a program to decode the filenames.\n",
    "\n",
    "Note that this method can no longer cheat Napster, and Napster has actually declared bankruptcy.\n",
    "'''\n",
    "\n",
    "import re\n",
    "a = input()\n",
    "b = a[::-1]\n",
    "c = re.sub('3pm\\.', '', b)\n",
    "c += '.mp3'\n",
    "print(c)"
   ]
  },
  {
   "cell_type": "markdown",
   "metadata": {},
   "source": [
    "#### D100"
   ]
  },
  {
   "cell_type": "code",
   "execution_count": null,
   "metadata": {},
   "outputs": [],
   "source": [
    "'''Calculate A+B(D100)\n",
    "You are learning addition. Unfortunately, you don't have enough fingers to add up large numbers.\n",
    "Write a program to help you calculate A+B\n",
    "'''\n",
    "dw = input()\n",
    "a = dw.split(' ')\n",
    "print(int(a[0])+int(a[1]))\n"
   ]
  },
  {
   "cell_type": "markdown",
   "metadata": {},
   "source": [
    "#### D101"
   ]
  },
  {
   "cell_type": "code",
   "execution_count": null,
   "metadata": {},
   "outputs": [],
   "source": [
    "'''Phone number(D101)\n",
    "In this exercise, you will learn how to perform basic input and output. \n",
    "Also, you will be able to try the HKOI Online Judge system.\n",
    "Write a program to read a 8-digit Hong Kong phone number and determine whether \n",
    "it is a fixed line number (numbers that start with 2 or 3) or a mobile number \n",
    "(numbers that start with 5, 6 or 9).\n",
    "'''\n",
    "a = input()\n",
    "aw = a[:1]\n",
    "\n",
    "if aw == '2':\n",
    "    print('Fixed')\n",
    "elif aw == '3':\n",
    "    print('Fixed')\n",
    "if aw == '5':\n",
    "    print('Mobile')\n",
    "elif aw == '6':\n",
    "    print('Mobile')\n",
    "elif aw == '9':\n",
    "    print('Mobile')"
   ]
  },
  {
   "cell_type": "markdown",
   "metadata": {},
   "source": [
    "#### D102"
   ]
  },
  {
   "cell_type": "code",
   "execution_count": null,
   "metadata": {},
   "outputs": [],
   "source": [
    "'''Bus fare (D102)\n",
    "In Hong Kong, children under the age of 12 can ride the bus with half fare.\n",
    "The amount is rounded up to the nearest ten cents.\n",
    "For example, if the full fare is $9.3,\n",
    "the half fare would be $4.7.\n",
    "Write a program to display the half fare.\n",
    "'''\n",
    "\n",
    "import math\n",
    "import re\n",
    "a = input()\n",
    "b = re.sub('\\$','',a)\n",
    "# print(b) # Debug only\n",
    "ba = float(b)\n",
    "c = ba / 2\n",
    "def round_up(n, decimals=0):\n",
    "    multiplier = 10 ** decimals\n",
    "    return math.ceil(n * multiplier) / multiplier\n",
    "d = round_up(c, 1)\n",
    "\n",
    "# print(c) #debug\n",
    "print('${}'.format(d))"
   ]
  },
  {
   "cell_type": "markdown",
   "metadata": {},
   "source": [
    "#### D103"
   ]
  },
  {
   "cell_type": "code",
   "execution_count": null,
   "metadata": {},
   "outputs": [],
   "source": [
    "'''Area of triangle(D103)\n",
    "There are many ways to calculate the area of a triangle.\n",
    "'''\n",
    "from math import sin,degrees,radians\n",
    "a = int(input())\n",
    "b = int(input())\n",
    "cdeg = int(input())\n",
    "# print(sin(radians(cdeg)))\n",
    "d = 0.5 * a * b * sin(radians(cdeg))\n",
    "# print('Cdeg sin: {}'.format(degrees(sin(cdeg))))\n",
    "# print('d = {}'.format(d))\n",
    "e = round(float(d),3)\n",
    "f = len(str(e))\n",
    "g = str(e)\n",
    "if f == 3:\n",
    "    g += '00'\n",
    "if f == 2:\n",
    "    g += '0'\n",
    "print(g)\n",
    "# 1/2 ab sin c"
   ]
  },
  {
   "cell_type": "markdown",
   "metadata": {},
   "source": [
    "#### D105"
   ]
  },
  {
   "cell_type": "code",
   "execution_count": null,
   "metadata": {},
   "outputs": [],
   "source": [
    "'''Date comparison(D105)\n",
    "Write a program to compare two dates: y1-m1-d1 y2-m2-d2\n",
    "'''\n",
    "a = input()\n",
    "b = input()\n",
    "ac = a.split(' ')\n",
    "bc = b.split(' ')\n",
    "if int(ac[0]) > int(bc[0]):\n",
    "    print('After')\n",
    "elif int(ac[0]) < int(bc[0]):\n",
    "    print('Before')\n",
    "elif int(ac[0]) == int(bc[0]):\n",
    "    if int(ac[1]) > int(bc[1]):\n",
    "        print('After')\n",
    "    elif int(ac[1]) < int(bc[1]):\n",
    "        print('Before')\n",
    "    elif int(ac[1]) == int(bc[1]):\n",
    "            if int(ac[2]) > int(bc[2]):\n",
    "                print('After')\n",
    "            elif int(ac[2]) < int(bc[2]):\n",
    "                print('Before')\n",
    "            elif int(ac[2]) == int(bc[2]):\n",
    "                print('Same')\n",
    "\n",
    "# print('AC:{}\\nBC:{}'.format(ac,bc))"
   ]
  },
  {
   "cell_type": "markdown",
   "metadata": {},
   "source": [
    "#### D106"
   ]
  },
  {
   "cell_type": "code",
   "execution_count": null,
   "metadata": {},
   "outputs": [],
   "source": [
    "'''Ordinal number(D106)\n",
    "Write a program to the ordinal form of a number.\n",
    "'''\n",
    "from argparse import ArgumentParser\n",
    "par = ArgumentParser()\n",
    "par.add_argument(\"-n\")\n",
    "a = par.parse_args()\n",
    "qqq = a.n\n",
    "\n",
    "# a = str(input())\n",
    "b = [k for k in qqq]\n",
    "alen = len(qqq)\n",
    "c = b[alen-1]\n",
    "res = ''\n",
    "# print(b)\n",
    "# print('\\n{}'.format(b[alen-1]))\n",
    "# print(c)\n",
    "if qqq == '11':\n",
    "    res = qqq+'th'\n",
    "elif qqq == '12':\n",
    "    res = qqq+'th'\n",
    "elif qqq == '13':\n",
    "    res = qqq+'th'\n",
    "else:\n",
    "    if c == '1':\n",
    "        res = qqq+'st'\n",
    "    elif c == '2':\n",
    "        res = qqq+'nd'\n",
    "    elif c == '3':\n",
    "        res = qqq+'rd'\n",
    "    else:\n",
    "        res = qqq+'th'\n",
    "# print(res)\n",
    "f = open(\"lastdep.txt\", \"a\")\n",
    "f.write(res+'\\n')\n",
    "f.close()"
   ]
  },
  {
   "cell_type": "markdown",
   "metadata": {},
   "source": [
    "#### D108"
   ]
  },
  {
   "cell_type": "code",
   "execution_count": null,
   "metadata": {},
   "outputs": [],
   "source": [
    "'''Simple calculator(D108)\n",
    "Write a program to evaluate a simple arithmetic expression.\n",
    "The specifications of the expression are as follows:\n",
    "\n",
    "The expression consists of 3 operands and 2 operators.\n",
    "The operands are integers between 0 and 100 inclusive.\n",
    "The operators are either +(plus), -(minus) or *(times).\n",
    "The expression does not contain any brackets.\n",
    "'''\n",
    "# So DIFFICULT AAAAAAAAAAAAAAAAAAAAAAAAAAAAAAAAAAAAAAAAAAAAAAA\n",
    "import re\n",
    "a = input()\n",
    "bst = [c for c in a]\n",
    "first = ''\n",
    "sec = ''\n",
    "for i in bst:\n",
    "    if first == '':\n",
    "        if i == '+':\n",
    "            first = '+'\n",
    "        elif i == '-':\n",
    "            first = '-'\n",
    "        elif i == '*':\n",
    "            first = '*'\n",
    "        elif i == '/':\n",
    "            first = '/'\n",
    "    else:\n",
    "        if i == '+':\n",
    "            sec = '+'\n",
    "        elif i == '-':\n",
    "            sec = '-'\n",
    "        elif i == '*':\n",
    "            sec = '*'\n",
    "        elif i == '/':\n",
    "            sec = '/'\n",
    "# print('First: {}'.format(first))\n",
    "# print('Second: {}'.format(sec))\n",
    "regex = r'[\\+\\-\\*\\/]'\n",
    "b = re.sub(regex,'',a)\n",
    "c = b.split(' ')    \n",
    "result = 0\n",
    "# print(c)\n",
    "if first == '+':\n",
    "    if sec == '+':\n",
    "        result = int(c[0]) + int(c[2]) + int(c[4])\n",
    "    elif sec == '-':\n",
    "        result = int(c[0]) + int(c[2]) - int(c[4])\n",
    "    elif sec == '*':\n",
    "        result = int(c[0]) + int(c[2]) * int(c[4])\n",
    "    elif sec == '/':\n",
    "        result = int(c[0]) + int(c[2]) / int(c[4])\n",
    "elif first == '-':\n",
    "    if sec == '+':\n",
    "        result = int(c[0]) - int(c[2]) + int(c[4])\n",
    "    elif sec == '-':\n",
    "        result = int(c[0]) - int(c[2]) - int(c[4])\n",
    "    elif sec == '*':\n",
    "        result = int(c[0]) - int(c[2]) * int(c[4])\n",
    "    elif sec == '/':\n",
    "        result = int(c[0]) - int(c[2]) / int(c[4])\n",
    "elif first == '*':\n",
    "    if sec == '+':\n",
    "        result = int(c[0]) * int(c[2]) + int(c[4])\n",
    "    elif sec == '-':\n",
    "        result = int(c[0]) * int(c[2]) - int(c[4])\n",
    "    elif sec == '*':\n",
    "        result = int(c[0]) * int(c[2]) * int(c[4])\n",
    "    elif sec == '/':\n",
    "        result = int(c[0]) * int(c[2]) / int(c[4])\n",
    "elif first == '/':\n",
    "    if sec == '+':\n",
    "        result = int(c[0]) / int(c[2]) + int(c[4])\n",
    "    elif sec == '-':\n",
    "        result = int(c[0]) / int(c[2]) - int(c[4])\n",
    "    elif sec == '*':\n",
    "        result = int(c[0]) / int(c[2]) * int(c[4])\n",
    "    elif sec == '/':\n",
    "        result = int(c[0]) / int(c[2]) / int(c[4])\n",
    "print(result)"
   ]
  },
  {
   "cell_type": "markdown",
   "metadata": {},
   "source": [
    "#### D109"
   ]
  },
  {
   "cell_type": "code",
   "execution_count": null,
   "metadata": {},
   "outputs": [],
   "source": [
    "'''Giving changes(D109)\n",
    "You are a trainee of the Heung Shing Bank. You are learning how to process withdrawals. For the convenience of the customers, you should always use the minimum possible number of currencies. Write a program to assist you.\n",
    "You are provided with infinitely many $1000, $500, $100, $50, $20 and $10 notes.\n",
    "Use the minimum number of notes to produce the exact amount.\n",
    "'''\n",
    "avbn = [1000,500,100,50,20,10]\n",
    "wm = input()\n",
    "wt = int(wm)\n",
    "\n",
    "for i in avbn:\n",
    "    while wt >= i:\n",
    "        print(i)\n",
    "        wt -= i\n",
    "#        print('WT = {}'.format(wt))"
   ]
  },
  {
   "cell_type": "markdown",
   "metadata": {},
   "source": [
    "#### D301"
   ]
  },
  {
   "cell_type": "code",
   "execution_count": null,
   "metadata": {},
   "outputs": [],
   "source": [
    "'''Story generator(D301)\n",
    "In this section, you will learn about strings. \n",
    "A string a sequence of characters. Examples of strings are apple, \n",
    "Chan Tai Man and 123.456 (textual representation of numbers). \n",
    "As the first exercise, let's learn how to input and output strings.\n",
    "\n",
    "Write a program to input several English words, and compose (output) a story using those words.\n",
    "'''\n",
    "a = input()\n",
    "b = input()\n",
    "c = input()\n",
    "d = input()\n",
    "e = input()\n",
    "reply = 'My friends name is {}, he goes somewhere in {} and he eats {} daily. Today he went to school by {} to {}.'.format(a,b,c,d,e)\n",
    "print(reply)"
   ]
  },
  {
   "cell_type": "markdown",
   "metadata": {},
   "source": [
    "#### D802"
   ]
  },
  {
   "cell_type": "code",
   "execution_count": null,
   "metadata": {},
   "outputs": [],
   "source": [
    "'''Bubble sort(D802)\n",
    "Bubble Sort sorts an array by repeatly comparing adjacent elements, and swap them if required. \n",
    "Implement the Bubble Sort sorting algorithm. Sort the given array in the specified order.\n",
    "A is the sorting order required (0 = Ascending, 1 = Descending)\n",
    "'''\n",
    "temp = input()\n",
    "n = input()\n",
    "\n",
    "temp = temp.split(' ')\n",
    "n = n.split(' ')\n",
    "n = [int(x) for x in n]\n",
    "\n",
    "order = temp[1]\n",
    "\n",
    "'''\n",
    "if order == 0:\n",
    "    print('<')\n",
    "else:\n",
    "    print('>')\n",
    "'''\n",
    "def bubble(ar,order):\n",
    "    count = 0\n",
    "    yeet = ''\n",
    "    if order == '0':\n",
    "        for k in range(len(ar)):\n",
    "            for i in range(len(ar)-1):\n",
    "                if ar[i] > ar[i+1]:\n",
    "                    ar[i], ar[i+1] = ar[i+1], ar[i]\n",
    "                    count += 1\n",
    "    elif order == '1':\n",
    "        for k in range(len(ar)):\n",
    "            for i in range(len(ar)-1):\n",
    "                if ar[i] < ar[i+1]:\n",
    "                    ar[i], ar[i+1] = ar[i+1], ar[i]\n",
    "                    count += 1\n",
    "    for a in ar:\n",
    "        yeet += str(a)\n",
    "        yeet += ' '\n",
    "    return(str(count)+'\\n'+yeet)\n",
    "# print('n: {}'.format(n))\n",
    "result = bubble(n,order)\n",
    "# print(count)\n",
    "print(result)\n",
    "\n",
    "'''\n",
    "6 0\n",
    "4 4 5 5 5 3\n",
    "'''"
   ]
  }
 ],
 "metadata": {
  "kernelspec": {
   "display_name": "Python 3",
   "language": "python",
   "name": "python3"
  },
  "language_info": {
   "codemirror_mode": {
    "name": "ipython",
    "version": 3
   },
   "file_extension": ".py",
   "mimetype": "text/x-python",
   "name": "python",
   "nbconvert_exporter": "python",
   "pygments_lexer": "ipython3",
   "version": "3.6.0"
  }
 },
 "nbformat": 4,
 "nbformat_minor": 4
}
