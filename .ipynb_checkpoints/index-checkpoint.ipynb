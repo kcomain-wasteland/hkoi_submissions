{
 "cells": [
  {
   "cell_type": "markdown",
   "metadata": {},
   "source": [
    "# HKOI Submissions\n",
    "### CI Build Statuses\n",
    "[![Circle CI Build Status](https://img.shields.io/circleci/build/github/kcomain/hkoi_submissions?label=Circle%20CI%20build)](https://circleci.com/gh/kcomain/hkoi_submissions) [![Build Status](https://img.shields.io/travis/kcomain/hkoi_submissions?label=Travis%20Build)](https://travis-ci.org/kcomain/hkoi_submissions)\n",
    "\n",
    "## Jupyter Notebook\n",
    "#### Codes"
   ]
  },
  {
   "cell_type": "markdown",
   "metadata": {},
   "source": [
    "[Finished Codes](./Finished/index.ipynb)\n",
    "\n",
    "[Current Codes](./current.ipynb)"
   ]
  },
  {
   "cell_type": "markdown",
   "metadata": {},
   "source": [
    "#### Utility notebooks\n",
    "[Git Tools](./git.ipynb)"
   ]
  },
  {
   "cell_type": "code",
   "execution_count": null,
   "metadata": {},
   "outputs": [],
   "source": []
  }
 ],
 "metadata": {
  "kernelspec": {
   "display_name": "Python 3",
   "language": "python",
   "name": "python3"
  },
  "language_info": {
   "codemirror_mode": {
    "name": "ipython",
    "version": 3
   },
   "file_extension": ".py",
   "mimetype": "text/x-python",
   "name": "python",
   "nbconvert_exporter": "python",
   "pygments_lexer": "ipython3",
   "version": "3.6.0"
  }
 },
 "nbformat": 4,
 "nbformat_minor": 4
}
